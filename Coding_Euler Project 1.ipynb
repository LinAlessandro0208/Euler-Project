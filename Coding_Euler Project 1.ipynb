{
 "cells": [
  {
   "cell_type": "markdown",
   "id": "29430d6c",
   "metadata": {},
   "source": [
    "# Multiples of 3 or 5\n",
    "If we list all the natural numbers below 10 that are multiples of 3 or 5, we get 3, 5, 6 and 9. The sum of these multiples is 23.\n",
    "\n",
    "Find the sum of all the multiples of 3 or 5 below 1000."
   ]
  },
  {
   "cell_type": "code",
   "execution_count": 8,
   "id": "7c73f80f",
   "metadata": {},
   "outputs": [
    {
     "data": {
      "text/plain": [
       "23"
      ]
     },
     "execution_count": 8,
     "metadata": {},
     "output_type": "execute_result"
    }
   ],
   "source": [
    "def sum(x):\n",
    "    sum = 0\n",
    "    for i in range (1,x):\n",
    "        if i%3 == 0 or i%5 == 0:\n",
    "            sum = sum + i\n",
    "    return sum\n",
    "\n",
    "\n",
    "sum(10)"
   ]
  },
  {
   "cell_type": "code",
   "execution_count": null,
   "id": "193da66e",
   "metadata": {},
   "outputs": [],
   "source": []
  }
 ],
 "metadata": {
  "kernelspec": {
   "display_name": "Python 3 (ipykernel)",
   "language": "python",
   "name": "python3"
  },
  "language_info": {
   "codemirror_mode": {
    "name": "ipython",
    "version": 3
   },
   "file_extension": ".py",
   "mimetype": "text/x-python",
   "name": "python",
   "nbconvert_exporter": "python",
   "pygments_lexer": "ipython3",
   "version": "3.9.13"
  }
 },
 "nbformat": 4,
 "nbformat_minor": 5
}
